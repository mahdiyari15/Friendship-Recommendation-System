{
 "cells": [
  {
   "cell_type": "markdown",
   "metadata": {},
   "source": [
    "## Questions (bonus)"
   ]
  },
  {
   "cell_type": "markdown",
   "metadata": {},
   "source": [
    "The first option is wrong since the confidence interval is for a parameter of a distribution and it is used to describe a feature about the distribution not about a sample. We don't need a confidence interval for  average pressure of 100 measurements since we can calculate the average using the measurements data.\n",
    "\n",
    "Third option is incorrect because confidence interval gives us a interval that we are 95 percent sure the real mean of data will be there. It doesn't makes any assumption about the mean of sampling data.\n",
    "\n",
    "The Fourth option is like the third option and the statement is about the mean of sampling data. While the confidence interval give us data about value of the true mean of distribution.\n",
    "\n",
    "The second option is correct because it is the definition of confidence interval. Confidence interval gives us an estimation about true value of mean and leaves us some room for error."
   ]
  }
 ],
 "metadata": {
  "language_info": {
   "name": "python"
  }
 },
 "nbformat": 4,
 "nbformat_minor": 2
}
