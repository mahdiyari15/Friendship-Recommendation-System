{
 "cells": [
  {
   "cell_type": "markdown",
   "metadata": {},
   "source": [
    "# Drug Safety Test\n",
    "\n"
   ]
  },
  {
   "cell_type": "markdown",
   "metadata": {},
   "source": [
    "<span style=\"color: orange; font-size: 20px;\">Q1</span>\n",
    "\n",
    "At first I import pandas and read the data using pandas.read_csv() function."
   ]
  },
  {
   "cell_type": "code",
   "execution_count": 52,
   "metadata": {},
   "outputs": [
    {
     "name": "stdout",
     "output_type": "stream",
     "text": [
      "       age   sex      trx  week  wbc  rbc adverse_effects  num_effects\n",
      "0       62  male     Drug     0  7.3  5.1              No            0\n",
      "1       62  male     Drug     1  NaN  NaN              No            0\n",
      "2       62  male     Drug    12  5.6  5.0              No            0\n",
      "3       62  male     Drug    16  NaN  NaN              No            0\n",
      "4       62  male     Drug     2  6.6  5.1              No            0\n",
      "...    ...   ...      ...   ...  ...  ...             ...          ...\n",
      "16098   78  male  Placebo    16  NaN  NaN             Yes            1\n",
      "16099   78  male  Placebo     2  7.5  4.9              No            0\n",
      "16100   78  male  Placebo    20  NaN  NaN             Yes            1\n",
      "16101   78  male  Placebo     4  6.4  4.8              No            0\n",
      "16102   78  male  Placebo     8  7.8  4.8              No            0\n",
      "\n",
      "[16103 rows x 8 columns]\n"
     ]
    }
   ],
   "source": [
    "import pandas as pd\n",
    "\n",
    "data = pd.read_csv(\"./drug_safety.csv\")\n",
    "num_all_samples = len(data)\n",
    "print(data)"
   ]
  },
  {
   "cell_type": "markdown",
   "metadata": {},
   "source": [
    "<span style=\"color: orange; font-size: 20px;\">Q2</span>\n",
    "\n",
    "Now using loc[] I remove the samples which contain any NaN value. They only might be on the \"wbc\" or \"rbc\" columns.\n"
   ]
  },
  {
   "cell_type": "code",
   "execution_count": 53,
   "metadata": {},
   "outputs": [
    {
     "name": "stdout",
     "output_type": "stream",
     "text": [
      "      age   sex      trx  week  wbc  rbc adverse_effects  num_effects\n",
      "0      62  male     Drug     0  7.3  5.1              No            0\n",
      "1      62  male     Drug    12  5.6  5.0              No            0\n",
      "2      62  male     Drug     2  6.6  5.1              No            0\n",
      "3      62  male     Drug     4  6.9  5.2             Yes            1\n",
      "4      62  male     Drug     8  7.1  5.0             Yes            1\n",
      "...   ...   ...      ...   ...  ...  ...             ...          ...\n",
      "9122   78  male  Placebo     0  7.2  5.0              No            0\n",
      "9123   78  male  Placebo    12  6.5  4.9              No            0\n",
      "9124   78  male  Placebo     2  7.5  4.9              No            0\n",
      "9125   78  male  Placebo     4  6.4  4.8              No            0\n",
      "9126   78  male  Placebo     8  7.8  4.8              No            0\n",
      "\n",
      "[9127 rows x 8 columns]\n",
      "6976 samples contained at least one NaN value.\n"
     ]
    }
   ],
   "source": [
    "data = data.loc[(data[\"wbc\"].notna()) & (data[\"rbc\"].notna())]\n",
    "#Or we could use data = data.dropna() instead which is easier:)\n",
    "#I also reset the indexing because I deleted some rows.\n",
    "data = data.reset_index(drop=True)\n",
    "\n",
    "num_valid_samples = len(data)\n",
    "print(data)\n",
    "\n",
    "print(f\"{num_all_samples - num_valid_samples} samples contained at least one NaN value.\")"
   ]
  },
  {
   "cell_type": "markdown",
   "metadata": {},
   "source": [
    "<span style=\"color: orange; font-size: 20px;\">Q3</span>\n",
    "\n",
    "To display the basic statistics for the numeric columns, I use .describe() method of the data frame class in pandas. It reports the mean, std, min, max, first, second and third quadrants."
   ]
  },
  {
   "cell_type": "code",
   "execution_count": 54,
   "metadata": {},
   "outputs": [
    {
     "name": "stdout",
     "output_type": "stream",
     "text": [
      "               age         week          wbc          rbc  num_effects\n",
      "count  9127.000000  9127.000000  9127.000000  9127.000000  9127.000000\n",
      "mean     64.007670     4.985428     7.340331     4.672784     0.100800\n",
      "std       8.847711     4.375397     1.996645     0.458520     0.322178\n",
      "min      39.000000     0.000000     1.800000     2.100000     0.000000\n",
      "25%      58.000000     2.000000     6.000000     4.400000     0.000000\n",
      "50%      65.000000     4.000000     7.100000     4.700000     0.000000\n",
      "75%      71.000000     8.000000     8.400000     5.000000     0.000000\n",
      "max      84.000000    20.000000    26.500000     7.600000     3.000000\n"
     ]
    }
   ],
   "source": [
    "statistics = data.describe()\n",
    "print(statistics)"
   ]
  },
  {
   "cell_type": "markdown",
   "metadata": {},
   "source": [
    "<span style=\"color: orange; font-size: 20px;\">Q4</span>\n",
    "\n",
    "For this part I use the .groupby() method in data frames. Then I separated the wbc, rbc and num_effects columns and executed the .describe() method on them."
   ]
  },
  {
   "cell_type": "code",
   "execution_count": 64,
   "metadata": {},
   "outputs": [
    {
     "name": "stdout",
     "output_type": "stream",
     "text": [
      "******************************** wbc ********************************\n",
      "          count      mean       std  min  25%   50%  75%        max\n",
      "trx                                                                \n",
      "Drug     6011.0  7.330461  2.008941  1.8  6.0  7.00  8.4  26.500000\n",
      "Placebo  3116.0  7.359371  1.972890  3.0  6.0  7.15  8.4  23.799999\n",
      "\n",
      "\n",
      "******************************** rbc ********************************\n",
      "          count      mean       std  min  25%  50%  75%  max\n",
      "trx                                                         \n",
      "Drug     6011.0  4.679130  0.454990  2.7  4.4  4.7  5.0  7.5\n",
      "Placebo  3116.0  4.660542  0.465083  2.1  4.4  4.7  5.0  7.6\n",
      "\n",
      "\n",
      "**************************** num_effects ****************************\n",
      "          count      mean       std  min  25%  50%  75%  max\n",
      "trx                                                         \n",
      "Drug     6011.0  0.102479  0.325529  0.0  0.0  0.0  0.0  3.0\n",
      "Placebo  3116.0  0.097561  0.315639  0.0  0.0  0.0  0.0  3.0\n"
     ]
    }
   ],
   "source": [
    "grouped_stats = data.groupby(\"trx\")[[\"wbc\", \"rbc\", \"num_effects\"]].describe()\n",
    "\n",
    "print(\"******************************** wbc ********************************\")\n",
    "print(grouped_stats[\"wbc\"])\n",
    "\n",
    "print(\"\\n\\n******************************** rbc ********************************\")\n",
    "print(grouped_stats[\"rbc\"])\n",
    "\n",
    "print(\"\\n\\n**************************** num_effects ****************************\")\n",
    "print(grouped_stats[\"num_effects\"])"
   ]
  },
  {
   "cell_type": "markdown",
   "metadata": {},
   "source": [
    "<span style=\"color: orange; font-size: 20px;\">Q5</span>\n",
    "\n",
    "I interpreted the adverse_effects column as a one-hot encoded data. So I considered 1 for \"Yes\" values and 0 for \"No\" values. This way we can find the mean of this column."
   ]
  },
  {
   "cell_type": "code",
   "execution_count": null,
   "metadata": {},
   "outputs": [
    {
     "data": {
      "text/plain": [
       "0       0\n",
       "1       0\n",
       "2       0\n",
       "3       1\n",
       "4       1\n",
       "       ..\n",
       "9122    0\n",
       "9123    0\n",
       "9124    0\n",
       "9125    0\n",
       "9126    0\n",
       "Name: adverse_effects, Length: 9127, dtype: int64"
      ]
     },
     "execution_count": 59,
     "metadata": {},
     "output_type": "execute_result"
    }
   ],
   "source": [
    "data[\"adverse_effects\"] = data[\"adverse_effects\"].apply(lambda x: 1 if x == \"Yes\" else 0)"
   ]
  },
  {
   "cell_type": "code",
   "execution_count": 60,
   "metadata": {},
   "outputs": [
    {
     "data": {
      "text/plain": [
       "count    9127.000000\n",
       "mean        0.094664\n",
       "std         0.292767\n",
       "min         0.000000\n",
       "25%         0.000000\n",
       "50%         0.000000\n",
       "75%         0.000000\n",
       "max         1.000000\n",
       "Name: adverse_effects, dtype: float64"
      ]
     },
     "execution_count": 60,
     "metadata": {},
     "output_type": "execute_result"
    }
   ],
   "source": [
    "data[\"adverse_effects\"].describe()"
   ]
  },
  {
   "cell_type": "markdown",
   "metadata": {},
   "source": [
    "<span style=\"color: orange; font-size: 20px;\">Q6</span>\n",
    "\n",
    "I'll show the matrics by code first:"
   ]
  },
  {
   "cell_type": "code",
   "execution_count": 67,
   "metadata": {},
   "outputs": [
    {
     "name": "stdout",
     "output_type": "stream",
     "text": [
      "******************************** wbc ********************************\n",
      "trx\n",
      "Drug       7.330461\n",
      "Placebo    7.359371\n",
      "Name: mean, dtype: float64\n",
      "\n",
      "\n",
      "******************************** rbc ********************************\n",
      "trx\n",
      "Drug       4.679130\n",
      "Placebo    4.660542\n",
      "Name: mean, dtype: float64\n",
      "\n",
      "\n",
      "**************************** num_effects ****************************\n",
      "trx\n",
      "Drug       0.102479\n",
      "Placebo    0.097561\n",
      "Name: mean, dtype: float64\n",
      "\n",
      "\n",
      "************************** adverse_effects **************************\n",
      "trx\n",
      "Drug       0.095991\n",
      "Placebo    0.092105\n",
      "Name: mean, dtype: float64\n"
     ]
    }
   ],
   "source": [
    "grouped_stats = data.groupby(\"trx\")[[\"wbc\", \"rbc\", \"num_effects\", \"adverse_effects\"]].describe()\n",
    "\n",
    "print(\"******************************** wbc ********************************\")\n",
    "print(grouped_stats[\"wbc\"][\"mean\"])\n",
    "\n",
    "print(\"\\n\\n******************************** rbc ********************************\")\n",
    "print(grouped_stats[\"rbc\"][\"mean\"])\n",
    "\n",
    "print(\"\\n\\n**************************** num_effects ****************************\")\n",
    "print(grouped_stats[\"num_effects\"][\"mean\"])\n",
    "\n",
    "print(\"\\n\\n************************** adverse_effects **************************\")\n",
    "print(grouped_stats[\"adverse_effects\"][\"mean\"])"
   ]
  },
  {
   "cell_type": "markdown",
   "metadata": {},
   "source": [
    "<span style=\"color: yellow; font-size: 18px;\">My Initial Intuition:</span>\n",
    "\n",
    "wbc mean doesn't seem to be differed significantly. A change of 0.03 is negligible when the initial value is 7.3.\n",
    "\n",
    "rbc mean doesn't seem to be differed significantly. A change of 0.02 is negligible when the initial value is 4.6.\n",
    "\n",
    "num_effects mean seems to be differed significantly. A change of 0.005 is significant when the initial value is 0.097. It's almost 5 percents.\n",
    "\n",
    "adverse_effects mean seems to be differed significantly. A change of 0.004 is significant when the initial value is 0.092. It's almost 4 percents.\n",
    "\n",
    "later we'll see that this intuition was fully wrong :))"
   ]
  },
  {
   "cell_type": "code",
   "execution_count": 102,
   "metadata": {},
   "outputs": [
    {
     "name": "stdout",
     "output_type": "stream",
     "text": [
      "wbc: p_value = 0.5094775322580585\n",
      "If alpha = 0.05 H0 is failed to reject\n",
      "If alpha = 0.1 H0 is failed to reject\n",
      "*******************************************\n",
      "rbc: p_value = 0.06821193346979416\n",
      "If alpha = 0.05 H0 is failed to reject\n",
      "If alpha = 0.1 H0 is rejected.\n",
      "*******************************************\n",
      "num_effects: p_value = 0.48503538645811195\n",
      "If alpha = 0.05 H0 is failed to reject\n",
      "If alpha = 0.1 H0 is failed to reject\n",
      "*******************************************\n",
      "adverse_effects: p_value = 0.54539110892564\n",
      "If alpha = 0.05 H0 is failed to reject\n",
      "If alpha = 0.1 H0 is failed to reject\n"
     ]
    }
   ],
   "source": [
    "from scipy import stats\n",
    "\n",
    "samples_drug = data[data[\"trx\"] == \"Drug\"].reset_index(drop=True)\n",
    "samples_placebo = data[data[\"trx\"] == \"Placebo\"].reset_index(drop=True)\n",
    "\n",
    "t_wbc, p_value_wbc = stats.ttest_ind(samples_drug[\"wbc\"], samples_placebo[\"wbc\"], equal_var=False, alternative=\"two-sided\")\n",
    "t_rbc, p_value_rbc = stats.ttest_ind(samples_drug[\"rbc\"], samples_placebo[\"rbc\"], equal_var=False, alternative=\"two-sided\")\n",
    "t_num_effects, p_value_num_effects = stats.ttest_ind(samples_drug[\"num_effects\"], samples_placebo[\"num_effects\"], equal_var=False, alternative=\"two-sided\")\n",
    "t_adverse_effects, p_value_adverse_effects = stats.ttest_ind(samples_drug[\"adverse_effects\"], samples_placebo[\"adverse_effects\"], equal_var=False, alternative=\"two-sided\")\n",
    "\n",
    "alpha_values = [0.05, 0.10]\n",
    "\n",
    "print(f\"wbc: p_value = {p_value_wbc}\")\n",
    "print(f\"If alpha = {alpha_values[0]} H0 is {\"failed to reject\" if p_value_wbc >= alpha_values[0] else \"rejected.\"}\")\n",
    "print(f\"If alpha = {alpha_values[1]} H0 is {\"failed to reject\" if p_value_wbc >= alpha_values[1] else \"rejected.\"}\")\n",
    "print(\"*******************************************\")\n",
    "\n",
    "print(f\"rbc: p_value = {p_value_rbc}\")\n",
    "print(f\"If alpha = {alpha_values[0]} H0 is {\"failed to reject\" if p_value_rbc >= alpha_values[0] else \"rejected.\"}\")\n",
    "print(f\"If alpha = {alpha_values[1]} H0 is {\"failed to reject\" if p_value_rbc >= alpha_values[1] else \"rejected.\"}\")\n",
    "print(\"*******************************************\")\n",
    "\n",
    "print(f\"num_effects: p_value = {p_value_num_effects}\")\n",
    "print(f\"If alpha = {alpha_values[0]} H0 is {\"failed to reject\" if p_value_num_effects >= alpha_values[0] else \"rejected.\"}\")\n",
    "print(f\"If alpha = {alpha_values[1]} H0 is {\"failed to reject\" if p_value_num_effects >= alpha_values[1] else \"rejected.\"}\")\n",
    "print(\"*******************************************\")\n",
    "\n",
    "print(f\"adverse_effects: p_value = {p_value_adverse_effects}\")\n",
    "print(f\"If alpha = {alpha_values[0]} H0 is {\"failed to reject\" if p_value_adverse_effects >= alpha_values[0] else \"rejected.\"}\")\n",
    "print(f\"If alpha = {alpha_values[1]} H0 is {\"failed to reject\" if p_value_adverse_effects >= alpha_values[1] else \"rejected.\"}\")"
   ]
  },
  {
   "cell_type": "markdown",
   "metadata": {},
   "source": [
    "If H0 is rejected it means the difference is significat and if it's failed to reject means it is not significant."
   ]
  },
  {
   "cell_type": "markdown",
   "metadata": {},
   "source": [
    "Significance level is threshold which determines whether the null hypothesis should be rejected or not. If we increase it, the sensitivity will be higher and p_value has to be more to help us be able to not reject H0. In this case, if we increase the alpha(significance level,) our conclusion will be inclined to accept that the mean differenc **is** significant. As we can see higher for rbc factor when we increased the alpha to 0.10 the H0 got rejected and the difference was considered as significant."
   ]
  },
  {
   "cell_type": "markdown",
   "metadata": {},
   "source": [
    "<span style=\"color: yellow; font-size: 18px;\">About scipy stats.ttest_ind() arguments:</span>\n",
    "\n",
    "**The alternative argument** shows which side are we checking whether the difference is significant or not. It can be one these three words: \n",
    "\n",
    "\"two-sided\" which tests if the two groups are different, not considering which side different. It is the one we used in this case and the default of scipy.\n",
    "\n",
    "\"greater\" which tests if the mean of first group is greater than the second.\n",
    "\n",
    "\"less\" which tests if the mean of first group is less than the second.\n",
    "\n",
    "**The equal_var argument** is a boolean argument which determines whether to assume that the two groups variances are equal or not. In the case we solved, becuase we ain't sure about it it's better and more robust to put it equal to False. If we put it True, it's named pooled variance t-test and otherwise it's named Welch's t-test."
   ]
  }
 ],
 "metadata": {
  "kernelspec": {
   "display_name": "Python 3",
   "language": "python",
   "name": "python3"
  },
  "language_info": {
   "codemirror_mode": {
    "name": "ipython",
    "version": 3
   },
   "file_extension": ".py",
   "mimetype": "text/x-python",
   "name": "python",
   "nbconvert_exporter": "python",
   "pygments_lexer": "ipython3",
   "version": "3.12.2"
  }
 },
 "nbformat": 4,
 "nbformat_minor": 2
}
