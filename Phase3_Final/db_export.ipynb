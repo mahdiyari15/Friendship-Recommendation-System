{
 "cells": [
  {
   "cell_type": "code",
   "execution_count": 1,
   "id": "ff447bb8",
   "metadata": {},
   "outputs": [
    {
     "ename": "FileNotFoundError",
     "evalue": "[Errno 2] No such file or directory: './Data/cast.csv'",
     "output_type": "error",
     "traceback": [
      "\u001b[0;31m---------------------------------------------------------------------------\u001b[0m",
      "\u001b[0;31mFileNotFoundError\u001b[0m                         Traceback (most recent call last)",
      "Cell \u001b[0;32mIn[1], line 4\u001b[0m\n\u001b[1;32m      1\u001b[0m \u001b[38;5;28;01mimport\u001b[39;00m\u001b[38;5;250m \u001b[39m\u001b[38;5;21;01msqlite3\u001b[39;00m\n\u001b[1;32m      2\u001b[0m \u001b[38;5;28;01mimport\u001b[39;00m\u001b[38;5;250m \u001b[39m\u001b[38;5;21;01mpandas\u001b[39;00m\u001b[38;5;250m \u001b[39m\u001b[38;5;28;01mas\u001b[39;00m\u001b[38;5;250m \u001b[39m\u001b[38;5;21;01mpd\u001b[39;00m\n\u001b[0;32m----> 4\u001b[0m df \u001b[38;5;241m=\u001b[39m \u001b[43mpd\u001b[49m\u001b[38;5;241;43m.\u001b[39;49m\u001b[43mread_csv\u001b[49m\u001b[43m(\u001b[49m\u001b[38;5;124;43m'\u001b[39;49m\u001b[38;5;124;43m./Data/cast.csv\u001b[39;49m\u001b[38;5;124;43m'\u001b[39;49m\u001b[43m)\u001b[49m\n\u001b[1;32m      5\u001b[0m df \u001b[38;5;241m=\u001b[39m df\u001b[38;5;241m.\u001b[39mdrop(columns\u001b[38;5;241m=\u001b[39m[\u001b[38;5;124m'\u001b[39m\u001b[38;5;124mrow\u001b[39m\u001b[38;5;124m'\u001b[39m])\n\u001b[1;32m      6\u001b[0m conn \u001b[38;5;241m=\u001b[39m sqlite3\u001b[38;5;241m.\u001b[39mconnect(\u001b[38;5;124m'\u001b[39m\u001b[38;5;124mdatabase/final_data.db\u001b[39m\u001b[38;5;124m'\u001b[39m)\n",
      "File \u001b[0;32m~/.local/lib/python3.10/site-packages/pandas/io/parsers/readers.py:1026\u001b[0m, in \u001b[0;36mread_csv\u001b[0;34m(filepath_or_buffer, sep, delimiter, header, names, index_col, usecols, dtype, engine, converters, true_values, false_values, skipinitialspace, skiprows, skipfooter, nrows, na_values, keep_default_na, na_filter, verbose, skip_blank_lines, parse_dates, infer_datetime_format, keep_date_col, date_parser, date_format, dayfirst, cache_dates, iterator, chunksize, compression, thousands, decimal, lineterminator, quotechar, quoting, doublequote, escapechar, comment, encoding, encoding_errors, dialect, on_bad_lines, delim_whitespace, low_memory, memory_map, float_precision, storage_options, dtype_backend)\u001b[0m\n\u001b[1;32m   1013\u001b[0m kwds_defaults \u001b[38;5;241m=\u001b[39m _refine_defaults_read(\n\u001b[1;32m   1014\u001b[0m     dialect,\n\u001b[1;32m   1015\u001b[0m     delimiter,\n\u001b[0;32m   (...)\u001b[0m\n\u001b[1;32m   1022\u001b[0m     dtype_backend\u001b[38;5;241m=\u001b[39mdtype_backend,\n\u001b[1;32m   1023\u001b[0m )\n\u001b[1;32m   1024\u001b[0m kwds\u001b[38;5;241m.\u001b[39mupdate(kwds_defaults)\n\u001b[0;32m-> 1026\u001b[0m \u001b[38;5;28;01mreturn\u001b[39;00m \u001b[43m_read\u001b[49m\u001b[43m(\u001b[49m\u001b[43mfilepath_or_buffer\u001b[49m\u001b[43m,\u001b[49m\u001b[43m \u001b[49m\u001b[43mkwds\u001b[49m\u001b[43m)\u001b[49m\n",
      "File \u001b[0;32m~/.local/lib/python3.10/site-packages/pandas/io/parsers/readers.py:620\u001b[0m, in \u001b[0;36m_read\u001b[0;34m(filepath_or_buffer, kwds)\u001b[0m\n\u001b[1;32m    617\u001b[0m _validate_names(kwds\u001b[38;5;241m.\u001b[39mget(\u001b[38;5;124m\"\u001b[39m\u001b[38;5;124mnames\u001b[39m\u001b[38;5;124m\"\u001b[39m, \u001b[38;5;28;01mNone\u001b[39;00m))\n\u001b[1;32m    619\u001b[0m \u001b[38;5;66;03m# Create the parser.\u001b[39;00m\n\u001b[0;32m--> 620\u001b[0m parser \u001b[38;5;241m=\u001b[39m \u001b[43mTextFileReader\u001b[49m\u001b[43m(\u001b[49m\u001b[43mfilepath_or_buffer\u001b[49m\u001b[43m,\u001b[49m\u001b[43m \u001b[49m\u001b[38;5;241;43m*\u001b[39;49m\u001b[38;5;241;43m*\u001b[39;49m\u001b[43mkwds\u001b[49m\u001b[43m)\u001b[49m\n\u001b[1;32m    622\u001b[0m \u001b[38;5;28;01mif\u001b[39;00m chunksize \u001b[38;5;129;01mor\u001b[39;00m iterator:\n\u001b[1;32m    623\u001b[0m     \u001b[38;5;28;01mreturn\u001b[39;00m parser\n",
      "File \u001b[0;32m~/.local/lib/python3.10/site-packages/pandas/io/parsers/readers.py:1620\u001b[0m, in \u001b[0;36mTextFileReader.__init__\u001b[0;34m(self, f, engine, **kwds)\u001b[0m\n\u001b[1;32m   1617\u001b[0m     \u001b[38;5;28mself\u001b[39m\u001b[38;5;241m.\u001b[39moptions[\u001b[38;5;124m\"\u001b[39m\u001b[38;5;124mhas_index_names\u001b[39m\u001b[38;5;124m\"\u001b[39m] \u001b[38;5;241m=\u001b[39m kwds[\u001b[38;5;124m\"\u001b[39m\u001b[38;5;124mhas_index_names\u001b[39m\u001b[38;5;124m\"\u001b[39m]\n\u001b[1;32m   1619\u001b[0m \u001b[38;5;28mself\u001b[39m\u001b[38;5;241m.\u001b[39mhandles: IOHandles \u001b[38;5;241m|\u001b[39m \u001b[38;5;28;01mNone\u001b[39;00m \u001b[38;5;241m=\u001b[39m \u001b[38;5;28;01mNone\u001b[39;00m\n\u001b[0;32m-> 1620\u001b[0m \u001b[38;5;28mself\u001b[39m\u001b[38;5;241m.\u001b[39m_engine \u001b[38;5;241m=\u001b[39m \u001b[38;5;28;43mself\u001b[39;49m\u001b[38;5;241;43m.\u001b[39;49m\u001b[43m_make_engine\u001b[49m\u001b[43m(\u001b[49m\u001b[43mf\u001b[49m\u001b[43m,\u001b[49m\u001b[43m \u001b[49m\u001b[38;5;28;43mself\u001b[39;49m\u001b[38;5;241;43m.\u001b[39;49m\u001b[43mengine\u001b[49m\u001b[43m)\u001b[49m\n",
      "File \u001b[0;32m~/.local/lib/python3.10/site-packages/pandas/io/parsers/readers.py:1880\u001b[0m, in \u001b[0;36mTextFileReader._make_engine\u001b[0;34m(self, f, engine)\u001b[0m\n\u001b[1;32m   1878\u001b[0m     \u001b[38;5;28;01mif\u001b[39;00m \u001b[38;5;124m\"\u001b[39m\u001b[38;5;124mb\u001b[39m\u001b[38;5;124m\"\u001b[39m \u001b[38;5;129;01mnot\u001b[39;00m \u001b[38;5;129;01min\u001b[39;00m mode:\n\u001b[1;32m   1879\u001b[0m         mode \u001b[38;5;241m+\u001b[39m\u001b[38;5;241m=\u001b[39m \u001b[38;5;124m\"\u001b[39m\u001b[38;5;124mb\u001b[39m\u001b[38;5;124m\"\u001b[39m\n\u001b[0;32m-> 1880\u001b[0m \u001b[38;5;28mself\u001b[39m\u001b[38;5;241m.\u001b[39mhandles \u001b[38;5;241m=\u001b[39m \u001b[43mget_handle\u001b[49m\u001b[43m(\u001b[49m\n\u001b[1;32m   1881\u001b[0m \u001b[43m    \u001b[49m\u001b[43mf\u001b[49m\u001b[43m,\u001b[49m\n\u001b[1;32m   1882\u001b[0m \u001b[43m    \u001b[49m\u001b[43mmode\u001b[49m\u001b[43m,\u001b[49m\n\u001b[1;32m   1883\u001b[0m \u001b[43m    \u001b[49m\u001b[43mencoding\u001b[49m\u001b[38;5;241;43m=\u001b[39;49m\u001b[38;5;28;43mself\u001b[39;49m\u001b[38;5;241;43m.\u001b[39;49m\u001b[43moptions\u001b[49m\u001b[38;5;241;43m.\u001b[39;49m\u001b[43mget\u001b[49m\u001b[43m(\u001b[49m\u001b[38;5;124;43m\"\u001b[39;49m\u001b[38;5;124;43mencoding\u001b[39;49m\u001b[38;5;124;43m\"\u001b[39;49m\u001b[43m,\u001b[49m\u001b[43m \u001b[49m\u001b[38;5;28;43;01mNone\u001b[39;49;00m\u001b[43m)\u001b[49m\u001b[43m,\u001b[49m\n\u001b[1;32m   1884\u001b[0m \u001b[43m    \u001b[49m\u001b[43mcompression\u001b[49m\u001b[38;5;241;43m=\u001b[39;49m\u001b[38;5;28;43mself\u001b[39;49m\u001b[38;5;241;43m.\u001b[39;49m\u001b[43moptions\u001b[49m\u001b[38;5;241;43m.\u001b[39;49m\u001b[43mget\u001b[49m\u001b[43m(\u001b[49m\u001b[38;5;124;43m\"\u001b[39;49m\u001b[38;5;124;43mcompression\u001b[39;49m\u001b[38;5;124;43m\"\u001b[39;49m\u001b[43m,\u001b[49m\u001b[43m \u001b[49m\u001b[38;5;28;43;01mNone\u001b[39;49;00m\u001b[43m)\u001b[49m\u001b[43m,\u001b[49m\n\u001b[1;32m   1885\u001b[0m \u001b[43m    \u001b[49m\u001b[43mmemory_map\u001b[49m\u001b[38;5;241;43m=\u001b[39;49m\u001b[38;5;28;43mself\u001b[39;49m\u001b[38;5;241;43m.\u001b[39;49m\u001b[43moptions\u001b[49m\u001b[38;5;241;43m.\u001b[39;49m\u001b[43mget\u001b[49m\u001b[43m(\u001b[49m\u001b[38;5;124;43m\"\u001b[39;49m\u001b[38;5;124;43mmemory_map\u001b[39;49m\u001b[38;5;124;43m\"\u001b[39;49m\u001b[43m,\u001b[49m\u001b[43m \u001b[49m\u001b[38;5;28;43;01mFalse\u001b[39;49;00m\u001b[43m)\u001b[49m\u001b[43m,\u001b[49m\n\u001b[1;32m   1886\u001b[0m \u001b[43m    \u001b[49m\u001b[43mis_text\u001b[49m\u001b[38;5;241;43m=\u001b[39;49m\u001b[43mis_text\u001b[49m\u001b[43m,\u001b[49m\n\u001b[1;32m   1887\u001b[0m \u001b[43m    \u001b[49m\u001b[43merrors\u001b[49m\u001b[38;5;241;43m=\u001b[39;49m\u001b[38;5;28;43mself\u001b[39;49m\u001b[38;5;241;43m.\u001b[39;49m\u001b[43moptions\u001b[49m\u001b[38;5;241;43m.\u001b[39;49m\u001b[43mget\u001b[49m\u001b[43m(\u001b[49m\u001b[38;5;124;43m\"\u001b[39;49m\u001b[38;5;124;43mencoding_errors\u001b[39;49m\u001b[38;5;124;43m\"\u001b[39;49m\u001b[43m,\u001b[49m\u001b[43m \u001b[49m\u001b[38;5;124;43m\"\u001b[39;49m\u001b[38;5;124;43mstrict\u001b[39;49m\u001b[38;5;124;43m\"\u001b[39;49m\u001b[43m)\u001b[49m\u001b[43m,\u001b[49m\n\u001b[1;32m   1888\u001b[0m \u001b[43m    \u001b[49m\u001b[43mstorage_options\u001b[49m\u001b[38;5;241;43m=\u001b[39;49m\u001b[38;5;28;43mself\u001b[39;49m\u001b[38;5;241;43m.\u001b[39;49m\u001b[43moptions\u001b[49m\u001b[38;5;241;43m.\u001b[39;49m\u001b[43mget\u001b[49m\u001b[43m(\u001b[49m\u001b[38;5;124;43m\"\u001b[39;49m\u001b[38;5;124;43mstorage_options\u001b[39;49m\u001b[38;5;124;43m\"\u001b[39;49m\u001b[43m,\u001b[49m\u001b[43m \u001b[49m\u001b[38;5;28;43;01mNone\u001b[39;49;00m\u001b[43m)\u001b[49m\u001b[43m,\u001b[49m\n\u001b[1;32m   1889\u001b[0m \u001b[43m\u001b[49m\u001b[43m)\u001b[49m\n\u001b[1;32m   1890\u001b[0m \u001b[38;5;28;01massert\u001b[39;00m \u001b[38;5;28mself\u001b[39m\u001b[38;5;241m.\u001b[39mhandles \u001b[38;5;129;01mis\u001b[39;00m \u001b[38;5;129;01mnot\u001b[39;00m \u001b[38;5;28;01mNone\u001b[39;00m\n\u001b[1;32m   1891\u001b[0m f \u001b[38;5;241m=\u001b[39m \u001b[38;5;28mself\u001b[39m\u001b[38;5;241m.\u001b[39mhandles\u001b[38;5;241m.\u001b[39mhandle\n",
      "File \u001b[0;32m~/.local/lib/python3.10/site-packages/pandas/io/common.py:873\u001b[0m, in \u001b[0;36mget_handle\u001b[0;34m(path_or_buf, mode, encoding, compression, memory_map, is_text, errors, storage_options)\u001b[0m\n\u001b[1;32m    868\u001b[0m \u001b[38;5;28;01melif\u001b[39;00m \u001b[38;5;28misinstance\u001b[39m(handle, \u001b[38;5;28mstr\u001b[39m):\n\u001b[1;32m    869\u001b[0m     \u001b[38;5;66;03m# Check whether the filename is to be opened in binary mode.\u001b[39;00m\n\u001b[1;32m    870\u001b[0m     \u001b[38;5;66;03m# Binary mode does not support 'encoding' and 'newline'.\u001b[39;00m\n\u001b[1;32m    871\u001b[0m     \u001b[38;5;28;01mif\u001b[39;00m ioargs\u001b[38;5;241m.\u001b[39mencoding \u001b[38;5;129;01mand\u001b[39;00m \u001b[38;5;124m\"\u001b[39m\u001b[38;5;124mb\u001b[39m\u001b[38;5;124m\"\u001b[39m \u001b[38;5;129;01mnot\u001b[39;00m \u001b[38;5;129;01min\u001b[39;00m ioargs\u001b[38;5;241m.\u001b[39mmode:\n\u001b[1;32m    872\u001b[0m         \u001b[38;5;66;03m# Encoding\u001b[39;00m\n\u001b[0;32m--> 873\u001b[0m         handle \u001b[38;5;241m=\u001b[39m \u001b[38;5;28;43mopen\u001b[39;49m\u001b[43m(\u001b[49m\n\u001b[1;32m    874\u001b[0m \u001b[43m            \u001b[49m\u001b[43mhandle\u001b[49m\u001b[43m,\u001b[49m\n\u001b[1;32m    875\u001b[0m \u001b[43m            \u001b[49m\u001b[43mioargs\u001b[49m\u001b[38;5;241;43m.\u001b[39;49m\u001b[43mmode\u001b[49m\u001b[43m,\u001b[49m\n\u001b[1;32m    876\u001b[0m \u001b[43m            \u001b[49m\u001b[43mencoding\u001b[49m\u001b[38;5;241;43m=\u001b[39;49m\u001b[43mioargs\u001b[49m\u001b[38;5;241;43m.\u001b[39;49m\u001b[43mencoding\u001b[49m\u001b[43m,\u001b[49m\n\u001b[1;32m    877\u001b[0m \u001b[43m            \u001b[49m\u001b[43merrors\u001b[49m\u001b[38;5;241;43m=\u001b[39;49m\u001b[43merrors\u001b[49m\u001b[43m,\u001b[49m\n\u001b[1;32m    878\u001b[0m \u001b[43m            \u001b[49m\u001b[43mnewline\u001b[49m\u001b[38;5;241;43m=\u001b[39;49m\u001b[38;5;124;43m\"\u001b[39;49m\u001b[38;5;124;43m\"\u001b[39;49m\u001b[43m,\u001b[49m\n\u001b[1;32m    879\u001b[0m \u001b[43m        \u001b[49m\u001b[43m)\u001b[49m\n\u001b[1;32m    880\u001b[0m     \u001b[38;5;28;01melse\u001b[39;00m:\n\u001b[1;32m    881\u001b[0m         \u001b[38;5;66;03m# Binary mode\u001b[39;00m\n\u001b[1;32m    882\u001b[0m         handle \u001b[38;5;241m=\u001b[39m \u001b[38;5;28mopen\u001b[39m(handle, ioargs\u001b[38;5;241m.\u001b[39mmode)\n",
      "\u001b[0;31mFileNotFoundError\u001b[0m: [Errno 2] No such file or directory: './Data/cast.csv'"
     ]
    }
   ],
   "source": [
    "import sqlite3\n",
    "import pandas as pd\n",
    "\n",
    "df = pd.read_csv('./Data/cast.csv')\n",
    "df = df.drop(columns=['row'])\n",
    "conn = sqlite3.connect('database/final_data.db')\n"
   ]
  },
  {
   "cell_type": "code",
   "execution_count": 7,
   "id": "c8851fb8",
   "metadata": {},
   "outputs": [
    {
     "name": "stdout",
     "output_type": "stream",
     "text": [
      "          user_name     cast_name  watch_count\n",
      "0        deadalus22  Nicolas Cage           93\n",
      "1         gayartkid  Nicolas Cage           16\n",
      "2             tuoto  Nicolas Cage           31\n",
      "5       eclectic_em  Nicolas Cage           22\n",
      "10   thedayofthedot  Nicolas Cage           11\n",
      "..              ...           ...          ...\n",
      "341      demontrees  Nicolas Cage           34\n",
      "343       jeffdlowe  Nicolas Cage           66\n",
      "353     fuchsiadyke  Nicolas Cage           24\n",
      "357         va24mar  Nicolas Cage           31\n",
      "359        j1w_gtpl  Nicolas Cage           15\n",
      "\n",
      "[100 rows x 3 columns]\n",
      "{'Maya Rudolph', 'Kurt Russell', 'Harumi Sone', 'Jofre Soares', 'Daniel Brühl', 'Joe Chrest', 'Ikue Otani', 'Chishū Ryū', 'Joan Cusack', 'Toshio Furukawa', 'Bela Lugosi', 'Chevy Chase', 'Ching Miao', 'Michael Shannon', 'Moe Howard', 'Aubrey Plaza', 'Sylvester Stallone', 'Tatsuya Nakadai', 'George Sanders', 'Val Kilmer', 'Chris Rock', 'Danielle Harris', 'Ken Jeong', 'Kirsten Dunst', 'Eddie Marsan', 'Maaya Sakamoto', 'Ichiro Nagai', 'Dustin Hoffman', 'Pete Postlethwaite', 'Zdeněk Svěrák', 'Kareena Kapoor Khan', 'Kurt Raab', 'Charlton Heston', 'Amrish Puri', 'Hideo Murota', 'Dakota Johnson', 'Justin Long', 'Linda Blair', 'William Hellfire', 'Harry Davenport', 'Giuseppe Andrews', 'Siddique', 'Larry Fessenden', 'Seth Rogen', 'Gary Cooper', 'Peter Davison', 'Tom Kenny', 'Michael Fassbender', 'Jean-Louis Trintignant', 'Dennis Hopper', 'Addison Richards', 'Owen Moore', 'Samantha Fox', 'Toni Servillo', 'Arsinée Khanjian', 'Tadanobu Asano', 'Pete Smith', 'Johnny Depp', 'Charlie Chaplin', 'Jamie Lee Curtis', 'Will Arnett', 'John DiMaggio', 'Robert Ryan', 'Elliott Gould', 'Sandra Bullock', 'Elijah Wood', 'Joey King', 'Ron Jeremy', 'Santhanam', 'Rachel Sennott', 'Brad Pitt', 'James Gandolfini', 'Anthony Mackie', 'Andy Serkis', 'Marion Leonard', 'Jean Arthur', 'Chloë Grace Moretz', 'Steve Martin', 'Nicolas Cage', 'Vennela Kishore', 'Takashi Shimura', 'Fred Williamson', 'Shoichi Ozawa', 'Klaus Kinski', 'Robert Kerman', 'Mark Wahlberg', 'Charley Chase', 'Robert Harron', 'Mink Stole', 'Gunnar Björnstrand', 'William Hartnell', 'Gwyneth Paltrow', 'Jack Nicholson', 'Ben Affleck', 'Miyuki Sawashiro', 'Harold Lloyd', 'Scarlett Johansson', 'Kevin Hart', 'Djimon Hounsou', 'Jack Black', 'Cary Grant', 'Erin Brown', 'Maggie Smith', 'Tomorowo Taguchi', 'Antônio Pitanga', 'Ajay Devgn', 'Malcolm McDowell', \"Roscoe 'Fatty' Arbuckle\", 'Yuriko Yamaguchi', 'Kiyoshi Kobayashi', 'Zoe Kazan', 'Leigh Whannell', 'Martin Freeman', 'Lilo Pempeit', 'Ruby LaRocca', 'Tatsuya Hamaguchi', 'Shah Rukh Khan', 'Lex Barker', 'Trevor Howard', 'Lloyd Kaufman', 'Brendan Fraser', 'John Mills', 'Akemi Okamura', 'Colin Firth', 'Bud Abbott', 'John Goodman', 'Paresh Rawal', 'Reese Witherspoon', 'Terence Hill', 'Maika Monroe', 'Tom Hanks', 'Sam Rockwell', 'Shana Moulton', 'Joey Silvera', 'Cloris Leachman', 'John Travolta', 'Lil Rel Howery', 'Roy Rogers', 'Tobin Bell', 'Thelma Todd', 'Jun Hamamura', 'Rose Byrne', 'Betsey Brown', 'Judy Greer', 'Peter Stormare', 'Regina Hall', 'Shannon Tweed', 'Hiroaki Hirata', 'Matthew McConaughey', 'Raghu Babu', 'Samuel L. Jackson', 'Kristen Stewart', 'Frances McDormand', 'Oliver Hardy', 'Mads Mikkelsen', 'Vijayaraghavan', 'Leslie Nielsen', 'Alia Shawkat', \"Henry O'Neill\", 'Octavia Spencer', 'Innocent', 'Maurice Denham', 'Mary Pickford', 'Kathleen Barr', 'Michelle Yeoh', 'Larry Fine', 'Sebastian Stan', 'George Buck Flower', 'Marianne Stone', 'Udo Kier', 'Ben Stiller', 'James Spader', \"Bobby 'Wheezer' Hutchins\", 'Christopher Lloyd', 'John Gielgud', 'Anne Charlotte Robertson', 'Ewan McGregor', 'Mae Questel', 'Clint Howard', 'John Ratzenberger', 'Ren Osugi', 'Stephen Root', 'Tommi Korpela', 'Kyle Gallner', 'Lisa Vischer', 'María Rojo', 'Adam Sandler', 'Charles Bronson', 'Prakash Raj', 'Taiji Tonoyama', 'Dan Stevens', 'Chris Miller', 'Eric Roberts', 'Lam Suet', 'M. S. Bhaskar', 'Lou Costello', 'Mark Polonia', 'Miles Teller', 'Julie Walters', 'Brie Larson', 'Matt Damon', 'Peter Lorre', 'Yang Chi-Ching', 'Richard Martin', 'Oscar Isaac', 'Melvyn Douglas', 'Tabitha St. Germain', 'John Nesbitt', 'James Le Gros', 'Lyle Talbot', 'Tanikella Bharani', 'Gemma Arterton', 'Emma Stone', 'Deborah Kerr', 'Mel Gibson', 'Crispin Glover', 'Sophia Loren', 'Morgan Freeman', 'Eli Roth', 'Isabelle Huppert', 'Sigourney Weaver', 'Owen Wilson', 'Grey DeLisle', 'Paul Newman', 'Josh Brolin', 'Alan Tudyk', 'Shin Ha-kyun', 'Blue Demon', 'Rita Hayworth', 'Steve Coogan', 'Vincent Price', 'Jackie Chan', 'Joseph Crehan', 'Boris Karloff', 'Maggie Cheung Man-Yuk', 'Marilyn Monroe', 'Harrison Ford', 'Miki Nakatani', 'Kristen Wiig', 'Raphaël Quenard', 'Howard Vernon', 'Debi Derryberry', 'Akshay Kumar', 'Saoirse Ronan', 'Colin Farrell', 'Shum Lo', 'Phillip Ko Fai', 'Keegan-Michael Key', 'Hugh Jackman', 'Liam Neeson', 'Alain Delon', 'Eddie Murphy', 'Mabel Normand', 'Tony Hale', 'Jean-Pierre Léaud', 'William Demarest', 'David Tennant', 'John C. Reilly', 'Wong Ching-Ho', 'Chris Messina', \"Lupita Nyong'o\", 'Bob Peterson', 'Chris Pratt', 'Steve Carell', 'Carla Mancini', 'Ashley Olsen', 'Keith David', 'Antonio Banderas', 'Sigge Fürst', 'M. S. Narayana', 'Haruo Nakajima', 'Mike Nawrocki', 'Garry Chalk', 'George Kuchar', 'Emil Sitka', 'M. Emmet Walsh', 'Renji Ishibashi', 'Katharine Hepburn', 'Bill Moseley', 'Amy Adams', 'Boman Irani', 'Akio Otsuka', 'John Turturro', 'John Candy', 'Cate Blanchett', 'Bill Nighy', 'Andy Lau Tak-Wah', 'Ernest Borgnine', 'Hugo Carvana', 'Donna Cariaga', 'Alec Baldwin', 'Helena Bonham Carter', 'Shintarō Katsu', 'Danny Trejo', 'Ethan Hawke', 'Scoot McNairy', 'Elina Löwensohn', 'Ali Basha', 'Sally Hawkins', 'Toby Jones', 'Ilavarasu', 'Joan Sims', 'Fred Tatasciore', 'Bing Crosby', 'Nicole Kidman', 'Elle Fanning', 'Georg Skarstedt', 'Bruce Campbell', 'Kate Winslet', 'Jesse Plemons', 'Sayaka Ohara', 'Jack Carson', 'Kazuya Nakai', 'Spencer Tracy', 'James Franco', 'Jesús Franco', 'Chris Evans', 'Georges Méliès', 'Vivek', 'Jennifer Jason Leigh', 'Felix Aylmer', 'Tim Robbins', 'Robin Sydney', 'Jason Schwartzman', 'Margot Robbie', 'Glenn Ford', 'Sunil Varma', 'Judy Garland', 'Jude Law', 'Salim Kumar', 'Saburo Date', 'James Mason', 'Jamie Foxx', 'Paul Dano', 'Jonah Hill', 'Willem Dafoe', 'Dwayne Johnson', 'Laura Gemser', 'Bill Murray', 'Jason Bateman', 'Michael Caine', 'David Dastmalchian', 'Tom Baker', 'Cynthia Rothrock', 'Christian Bale', 'Doug Jones', 'Scout Taylor-Compton', 'Jean-Luc Godard', 'George McFarland', 'Winona Ryder', 'Robert Englund', 'Susumu Terajima', 'Chow Yun-Fat', 'Eric Edwards', 'Wilson Grey', 'Paulo César Peréio', 'Paul McCartney', 'Sonny Chiba', 'Stellan Skarsgård', 'Kath Soucie', 'Lin Shaye', 'Koichi Ueda', 'Toshirō Mifune', 'J.K. Simmons', 'Warwick Davis', 'Leo Gorcey', 'Audrey Hepburn', 'Jim Broadbent', 'Yuen Wah', 'Tom Hardy', 'Charles Hawtrey', 'Parker Posey', 'Robin Williams', 'Helena Ignez', 'Alex Wolff', 'Lina Romay', 'Michael Keaton', 'Richard Jenkins', 'Rooney Mara', 'Gene Hackman', 'Fernando Osés', 'Steven Seagal', 'Arthur V. Johnson', 'Bette Davis', 'Bunta Sugawara', 'Kappei Yamaguchi', 'Amitabh Bachchan', 'Shirley MacLaine', 'Tarō Suwa', 'Golshifteh Farahani', 'Cillian Murphy', 'Nassar', 'Tim Holt', 'James Stewart', 'Tetsuro Tamba', 'Mayumi Tanaka', 'David Chiang Da-Wei', 'Christopher Walken', 'Guará Rodrigues', 'Michel Piccoli', 'Anil Kapoor', 'Conrad Vernon', 'Ana de Armas', 'Anthony Hopkins', 'Yoko Hikasa', 'Sid James', 'Ingvar Hirdwall', 'Riki Takeuchi', 'Jim Belushi', 'Laura Dern', 'Ku Feng', 'John Wayne', 'Vernon Dent', 'Alan Hale', 'Lucy Liu', 'Jeff Bennett', 'Chloë Sevigny', 'Dee Bradley Baker', 'Andrew W. Walker', 'Tony Leung', 'Darian Caine', 'El Santo', 'Edna Purviance', 'Clancy Brown', 'Edoardo Leo', 'Mia Wasikowska', 'Paul Rudd', 'Dakota Fanning', 'Jiří Lábus', 'Julie Andrews', 'Tyler Perry', 'Gérard Depardieu', 'Jean-Claude Van Damme', 'Cherry Pie Picache', 'Eddi Arent', 'Joan Crawford', 'Ned Bellamy', 'Joseph Gordon-Levitt', 'Dermot Mulroney', 'Jeff Goldblum', 'Keira Knightley', 'Tress MacNeille', 'Akira Emoto', 'Lo Lieh', 'Tim Hodge', 'Shin-ichiro Miki', 'Irm Hermann', 'Gregory Peck', 'Barbara Stanwyck', 'Anya Taylor-Joy', 'Anupam Kher', 'Jim Cummings', 'Walter Gabarron', 'Juliette Binoche', 'Jake Gyllenhaal', 'Eugene Domingo', 'Michael Sheen', 'Felissa Rose', 'Corey Feldman', 'Allen Jenkins', 'Woody Harrelson', 'Maya Hawke', 'Wings Hauser', 'Rajendran', \"George 'Gabby' Hayes\", 'Florence Lawrence', 'Janardhanan', 'Bill Melendez', 'Emma Thompson', 'Mathieu Amalric', 'Frank Sinatra', 'David Thewlis', 'Bill Paxton', 'Riccardo Scamarcio', 'Pierre Niney', 'Toni Collette', \"Harry 'Snub' Pollard\", 'Kara Wai Ying-Hung', 'Rutger Hauer', 'Emma Roberts', 'Drew Barrymore', 'John Ireland', 'Kota Srinivasa Rao', 'Dolph Lundgren', 'Michael Hordern', 'Christine McIntyre', 'Jennifer Lawrence', 'Mary Elizabeth Winstead', 'Matt Smith', 'Liev Schreiber', 'Takahiro Sakurai', 'Jason Statham', 'Al Pacino', 'Robert Pattinson', 'Fung Hak-On', 'Carlos Suárez', 'Wu Ma', 'Dirk Bogarde', 'James Earl Jones', 'Bobcat Goldthwait', 'Christina Ricci', 'Sammo Hung Kam-Bo', 'Anna Faris', 'Kotono Mitsuishi', 'Petr Nárožný', 'Ed Harris', 'Valerio Mastandrea', 'Patrick Wilson', 'Matthew Beard', 'Huntz Hall', 'John Cena', 'James Cagney', 'Arnold Schwarzenegger', 'Dave Goelz', 'Tilda Swinton', 'Kate Bruce', 'Amber Heard', 'Robert Forster', 'Wiktor Andersson', 'Eric Tsang Chi-Wai', 'Artur Rolén', 'Joan Blondell', 'Jonathan Loughran', 'Susan Sarandon', 'John Leguizamo', 'Tara Strong', 'Kevin Michael Richardson', 'Mohanlal', 'Frank Welker', 'Ken Mitsuishi', 'Chris Hemsworth', 'Steve Buscemi', 'Jackie Sandler', 'Christopher Lee', 'John Saxon', 'Ryan Reynolds', 'Meiko Kaji', 'Yuen Biao', 'Ingrid Caven', 'Frank Grillo', 'David Lodge', 'Matthew Lillard', 'Julia Roberts', 'Keenan Wynn', 'Brinke Stevens', 'Kelly Sheridan', 'Tony Curtis', 'Anthony Daniels', 'Kazuhiko Inoue', 'Theda Bara', 'Chuck Norris', 'Chris Pine', 'Scott Adkins', 'Buster Keaton', 'Stanley Tucci', 'Myrna Loy', 'Meryl Streep', 'Jeffrey Combs', 'Shea Whigham', 'Simon Yam', 'Barbra Streisand', 'Jessica Chastain', 'Brahmanandam', 'Keanu Reeves', 'Bud Spencer', 'Michael Gambon', 'Bill Camp', 'Gabriele Tinti', 'Adam Driver', 'Jayaprakash', 'Stan Laurel', 'Koichi Yamadera', 'Brendan Gleeson', 'Susan Roman', 'Rica Matsumoto', 'Tom Hiddleston', 'Yogi Babu', 'Debbie D', 'Yoshitsugu Matsuoka', 'Louis Mandylor', 'Megumi Hayashibara', 'Yutaka Ikejima', 'Bebe Daniels', 'Stig Järrel', 'Harry Dean Stanton', 'Toshihiko Oda', 'Wallace Shawn', 'Andy Samberg', 'Keith Ferguson', 'Thierry Wermuth', 'Donald Pleasence', 'Dan Aykroyd', 'Robert Redford', 'Curly Howard', 'George Clooney', 'Robert Mitchum', 'Mary Woronov', 'Vinicio Marchioni', 'Zac Efron', 'Hugo Björne', 'Mack Sennett', 'Joaquin Phoenix', 'Jared Leto', 'Julianne Moore', 'Denzel Washington', 'Kenichi Ogata', 'Ginger Rogers', 'Allison Janney', 'Naomi Watts', 'Anna Kendrick', 'Reginald Owen', 'Kana Hanazawa', 'Sean Connery', 'Luigi Antonio Guerra', 'Dorothy DeBorba', 'Jon Favreau', 'Gilbert M. Anderson', 'Elvis Presley', 'Tom Felleghy', 'Will Ferrell', 'Thomas Rosales Jr.', 'Danny DeVito', 'Salman Khan', 'Channing Tatum', 'Cary Elwes', 'Julie Strain', 'Peter Haber', 'Pamela Sutch', 'Michael Jai White', 'Henry Fonda', 'Kay Francis', 'Cameron Diaz', 'Ward Bond', 'Robert Downey Jr.', 'Saori Hayami', 'Max von Sydow', 'Anne Hathaway', 'Vera Farmiga', 'Cheung Chok-Chow', 'Will Smith', 'Clint Eastwood', 'Barbara Crampton', 'Jess Harnell', 'Sukumari', 'Norman Tsui Siu-Keung', 'Philip Baker Hall', 'Ti Lung', 'Samara Weaving', 'Nedumudi Venu', 'Bill Hader', 'Michelle Williams', 'Humphrey Bogart', 'Basil Rathbone', 'Song Kang-ho', 'Tina Krause', 'Tom Cruise', 'Demi Moore', 'Vin Diesel', 'Natalie Portman', 'Fred Astaire', 'Benedict Cumberbatch', 'Clark Gable', 'David Strathairn', 'Brad Dourif', 'Monica Bellucci', 'Lance Henriksen', 'Anthony Wong Chau-Sang', 'John Leslie', 'Una Merkel', 'Gi Ju-bong', 'Glenn Close', 'Gregg Turkington', 'Frank Oz', 'Shemp Howard', 'Ted Raimi', 'John Hurt', 'Idris Elba', 'Javier Botet', 'Daws Butler', 'Bob Balaban', 'Akira Takahashi', 'Dean Martin', \"Ken'ichi Endô\", 'David Jason', 'Kenji Sahara', 'Gam Tin-Chue', 'Leonardo DiCaprio', 'Rachael Leigh Cook', 'Mary-Kate Olsen', 'Angela Lansbury', 'John Cusack', 'Debbie Rochon', 'Gorō Naya', 'Jesse Eisenberg', 'Barry Sullivan', 'Wang Han-Chen', 'Desmond Llewelyn', 'Gillian Jacobs', 'Russell Crowe', 'Pinto Colvig', 'Jane Fonda', 'Antonio Mayans', 'James Hong', 'Gary Oldman', 'George MacKay', 'Mark Ruffalo', 'Donnie Yen', 'Bradley Cooper', 'Ralph Ineson', 'Corey Burton', 'Takuzō Kawatani', 'Ray Milland', 'Alan Rickman', 'Stig Johanson', 'Bruce Willis', 'Michael Papajohn', 'Richard Dreyfuss', 'Donald Sutherland', 'Ayako Wakao', 'Glen Powell', 'Walter Brennan', 'Evan Peters', 'Laura Giglio', 'Ryan Gosling', 'Mickey Rourke', 'Mammootty', 'Johnny Wang Lung-Wei', 'Michael Ripper', 'Burt Lancaster', 'Marcello Mastroianni', 'Harvey Keitel', 'Judi Dench', 'Chester Morris', 'Jim Carrey', 'Yuen Cheung-Yan', 'Hanna Schygulla', 'Woody Allen', 'Herschel Savage', 'John Carradine', 'Peter Cushing', 'Tim Heidecker', 'Ayane Sakura', 'Jerry Lewis', 'Brian Donlevy', 'Frank McHugh', 'Rob Paulsen', 'Angelina Jolie', 'Luis Ciges', 'Nicholas Courtney', 'Naomi Tani', 'Mel Blanc', 'John Hawkes', 'Mickey Rooney', 'Phil Vischer', 'Shirō Shimomoto', 'Vanessa Redgrave', 'Timothy Spall', 'Michelle Pfeiffer', 'Burt Reynolds', 'Bob Hope', 'Selena Gomez', 'Haruko Sugimura', 'Hidetoshi Kageyama', 'Manobala', 'Daniel Craig', 'Karen Gillan', 'Kane Hodder', 'Dave Bautista', 'Linnea Quigley', 'Ralph Fiennes', 'Irving Bacon', 'Elizabeth Banks', 'Kevin Durand', 'Philip Seymour Hoffman', 'Jean-Paul Rouve', 'Bruno Ganz', 'Timothée Chalamet', 'Kevin Bacon', 'Richard E. Grant', 'Jamie Gillis', 'Richard Widmark', 'Gene Wilder', 'Michelle Bauer', 'Robert De Niro', 'John Polonia', 'Randolph Scott', 'Jagathy Sreekumar', 'Pam Grier', 'Karl Glusman', 'Laurence Fishburne', 'Dick Miller', 'Joseph Mazzello', 'Tony Todd', 'Paul Giamatti'}\n"
     ]
    }
   ],
   "source": [
    "df_long = pd.melt(df, id_vars=['user_name'], var_name='cast_name', value_name='watch_count')\n",
    "df_long = df_long[df_long['watch_count'] > 0]\n",
    "print(df_long.head(100)) \n",
    "df_long.to_sql('user_director_counts', conn, if_exists='replace', index=False)\n",
    "cast_names_set = set(df_long['cast_name'])\n",
    "print(cast_names_set)"
   ]
  },
  {
   "cell_type": "code",
   "execution_count": 8,
   "id": "ee6cad42",
   "metadata": {},
   "outputs": [],
   "source": [
    "cursor=conn.cursor()\n",
    "cursor.execute(f'''\n",
    "                CREATE TABLE IF NOT EXISTS Cast (\n",
    "    cast_id INTEGER PRIMARY KEY,\n",
    "    cast_name TEXT NOT NULL UNIQUE\n",
    "\t\t);''')\n",
    "for name in cast_names_set:\n",
    "    cursor.execute('''\n",
    "    INSERT OR IGNORE INTO Cast (cast_name)\n",
    "    VALUES (?)\n",
    "    ''', (name,))\n",
    "conn.commit()\n",
    "               \n",
    "    "
   ]
  },
  {
   "cell_type": "code",
   "execution_count": null,
   "id": "c11de9f8",
   "metadata": {},
   "outputs": [],
   "source": [
    "\n",
    "def export_to_db(file_path, db_name, variable_name, value_name, main_table_name,foreign_table_name):\n",
    "    df = pd.read_csv(file_path)\n",
    "    if 'row' in df.columns:\n",
    "        df = df.drop(columns=['row'])\n",
    "\n",
    "    conn = sqlite3.connect(db_name)\n",
    "\n",
    "    df_long = pd.melt(df, id_vars=['user_name'],\n",
    "                      var_name=variable_name, value_name=value_name)\n",
    "    df_long = df_long[df_long[value_name] > 0]\n",
    "\n",
    "    df_long.to_sql(main_table_name, conn, if_exists='replace', index=False)\n",
    "\n",
    "    cast_names_set = set(df_long[variable_name])\n",
    "\n",
    "    cursor = conn.cursor()\n",
    "    cursor.execute(f'''\n",
    "                CREATE TABLE IF NOT EXISTS {foreign_table_name} (\n",
    "    {variable_name[:-3]}_id INTEGER PRIMARY KEY,\n",
    "    {variable_name} TEXT NOT NULL UNIQUE\n",
    "\t\t);''')\n",
    "    for name in cast_names_set:\n",
    "        cursor.execute(f'''\n",
    "\t\tINSERT OR IGNORE INTO {foreign_table_name} ({variable_name})\n",
    "\t\tVALUES (?)\n",
    "\t\t''', (name,))\n",
    "    conn.commit()\n",
    "    conn.close()\n",
    "  \n"
   ]
  },
  {
   "cell_type": "code",
   "execution_count": null,
   "id": "921da428",
   "metadata": {},
   "outputs": [],
   "source": [
    "\n",
    "export_to_db('./Data/languages.csv', 'new_data.db', 'language', 'watch_count', 'Languages_count',\"Language\")\n",
    "export_to_db('./Data/directors.csv', 'new_data.db', 'director_name', 'watch_count', 'Director_count',\"Director\")\n",
    "export_to_db('./Data/countries.csv', 'new_data.db', 'country_name', 'watch_count', 'countries_count', 'Country')\n",
    "export_to_db('./Data/countries_rating.csv', 'new_data.db', 'country_name', 'rating', 'country_rating', 'Country')\n"
   ]
  },
  {
   "cell_type": "code",
   "execution_count": null,
   "id": "1414b83c",
   "metadata": {},
   "outputs": [],
   "source": [
    "export_to_db('./Data/cast.csv', 'new_data.db', 'cast_name', 'watch_count', 'Cast_count', 'Cast')\n",
    "export_to_db('./Data/languages_rating.csv', 'new_data.db', 'language', 'rating', 'language_rating', 'Language')\t\n",
    "export_to_db('./Data/rating_by_decade.csv', 'new_data.db', 'decade', 'rating', 'decade_rating', 'Decade')\t\n",
    "export_to_db('./Data/rating_cast.csv', 'new_data.db', 'cast_name', 'rating', 'Cast_rating', 'Cast')\t\n"
   ]
  },
  {
   "cell_type": "code",
   "execution_count": null,
   "id": "29728c5d",
   "metadata": {},
   "outputs": [],
   "source": [
    "export_to_db('./Data/rating_directors.csv', 'new_data.db', 'director_name', 'rating', 'Director_rating', 'Director')\t\n",
    "export_to_db('./Data/watched_by_decade.csv', 'new_data.db', 'decade', 'watch_count', 'decade_count', 'Decade')\t"
   ]
  },
  {
   "cell_type": "markdown",
   "id": "ea8763f6",
   "metadata": {},
   "source": [
    "Creating foreign keys for tables"
   ]
  },
  {
   "cell_type": "code",
   "execution_count": null,
   "id": "9ab221f0",
   "metadata": {},
   "outputs": [],
   "source": [
    "conn = sqlite3.connect(\"new_data.db\")\n",
    "\n",
    "\n",
    "def link_to_users(table_name, foreign_key, value,foreign_table_name):\n",
    "\n",
    "    cursor=conn.cursor()\n",
    "    cursor.executescript(f'''\n",
    "              BEGIN TRANSACTION;   \n",
    "              PRAGMA foreign_keys = ON;\n",
    "              ALTER TABLE {table_name} ADD COLUMN user_id INTEGER;\n",
    "\t\t\t\t\t\t\tUPDATE {table_name}\n",
    "\t\t\t\t\t\t\tSET user_id = (\n",
    "\t\t\t\t\t\t\t\t\tSELECT user_id\n",
    "\t\t\t\t\t\t\t\t\tFROM User\n",
    "\t\t\t\t\t\t\t\t\tWHERE TRIM(User.user_name) = TRIM({table_name}.user_name)\n",
    "\t\t\t\t\t\t\t);\n",
    "\t\t\t\t\t\t\tALTER TABLE {table_name} RENAME TO {table_name}_old;\n",
    "\t\t\t\t\t\t\tCREATE TABLE {table_name} (\n",
    "\t\t\t\t\t\t\t{foreign_key} INTEGER,\n",
    "\t\t\t\t\t\t\tuser_id INTEGER,\n",
    "\t\t\t\t\t\t\t{value} INTEGER,\n",
    "\t\t\t\t\t\t\tuser_name TEXT,\n",
    "\t\t\t\t\t\t\tFOREIGN KEY (user_id) REFERENCES User(user_id),\n",
    "\t\t\t\t\t\t\tFOREIGN KEY ({foreign_key}) REFERENCES {foreign_table_name}({foreign_key})\n",
    "\t\t\t\t\t\t\t);\n",
    "\t\t\t\t\t\t\tINSERT INTO {table_name} ( {foreign_key}, user_id, {value},user_name)\n",
    "\t\t\t\t\t\t\tSELECT  {foreign_key}, user_id, {value},user_name\n",
    "\t\t\t\t\t\t\tFROM {table_name}_old;\n",
    "\t\t\t\t\t\t\t''')\n",
    "    \n"
   ]
  },
  {
   "cell_type": "markdown",
   "id": "20227514",
   "metadata": {},
   "source": [
    "Changing user names to Userids in tables"
   ]
  },
  {
   "cell_type": "code",
   "execution_count": null,
   "id": "094818c0",
   "metadata": {},
   "outputs": [],
   "source": [
    "def user_name_to_user_id(table_name):\n",
    "  cursor=conn.cursor()\n",
    "  cursor.executescript(f'''\n",
    "              begin transaction;\n",
    "              ALTER TABLE {table_name} ADD COLUMN user_id INTEGER;\n",
    "\t\t\t\t\t\t\tUPDATE {table_name}\n",
    "\t\t\t\t\t\t\tSET user_id = (\n",
    "\t\t\t\t\t\t\t\t\tSELECT user_id\n",
    "\t\t\t\t\t\t\t\t\tFROM User\n",
    "\t\t\t\t\t\t\t\t\tWHERE TRIM(User.user_name) = TRIM({table_name}.user_name)\n",
    "\t\t\t\t\t\t\t);\n",
    "       ''')"
   ]
  },
  {
   "cell_type": "code",
   "execution_count": null,
   "id": "e74f8568",
   "metadata": {},
   "outputs": [],
   "source": [
    "user_name_to_user_id('decade_rating')"
   ]
  },
  {
   "cell_type": "markdown",
   "id": "c1959e9d",
   "metadata": {},
   "source": [
    "Creating unpivoted data for movie ratings"
   ]
  },
  {
   "cell_type": "code",
   "execution_count": 8,
   "id": "a720cd2e",
   "metadata": {},
   "outputs": [
    {
     "name": "stdout",
     "output_type": "stream",
     "text": [
      "         user_name            movie_name rating\n",
      "2    strawhatsanti  (500) Days of Summer    4.0\n",
      "3       blakemower  (500) Days of Summer    4.0\n",
      "4       skywvlkers  (500) Days of Summer    2.5\n",
      "5       suspirliam  (500) Days of Summer    4.5\n",
      "6            cobbb  (500) Days of Summer    4.0\n",
      "..             ...                   ...    ...\n",
      "922         yarjka  (500) Days of Summer    3.5\n",
      "923        elizaez  (500) Days of Summer    4.0\n",
      "925          jeaba  (500) Days of Summer    3.0\n",
      "926           da94  (500) Days of Summer    3.5\n",
      "938    calvinkemph  (500) Days of Summer    2.0\n",
      "\n",
      "[500 rows x 3 columns]\n"
     ]
    }
   ],
   "source": [
    "movie_rating_df=pd.read_csv('../Movies_rating.csv')\n",
    "conn = sqlite3.connect('database/final_data.db')\n",
    "movie_rating_df['User'] = movie_rating_df['User'].str.extract(r'https://www\\.letterboxd\\.com/([^/]+)/')\n",
    "movie_rating_df['user_name']=movie_rating_df['User']\n",
    "movie_rating_df.to_csv('./movies_rating2.csv', index=False)\n",
    "movie_rating_df.drop(columns=['User'], inplace=True)\n",
    "movie_rating_df=movie_rating_df.melt(id_vars=['user_name'], var_name='movie_name', value_name='rating')\n",
    "movie_rating_df = movie_rating_df[movie_rating_df['rating'].notna()]\n",
    "movie_rating_df = movie_rating_df[movie_rating_df['rating'] != 'No rating']\n",
    "print(movie_rating_df.head(500))\n",
    "movie_rating_df['title']=movie_rating_df['movie_name']\n",
    "movie_rating_df.drop(columns=['movie_name'], inplace=True)\n",
    "users_df = pd.read_sql(\"SELECT user_id, user_name FROM User\", conn)\n",
    "movies_df = pd.read_sql(\"SELECT movie_id, title FROM Movies\", conn)\n",
    "merged = movie_rating_df.merge(users_df, on=\"user_name\", how=\"left\")\n",
    "merged = merged.merge(movies_df, on=\"title\", how=\"left\")\n",
    "merged.drop(columns=['user_name', 'title'], inplace=True)\n",
    "merged.to_csv('./movies_rating3.csv', index=False)"
   ]
  },
  {
   "cell_type": "markdown",
   "id": "6d40920c",
   "metadata": {},
   "source": [
    "Creating Database for Movies rating:"
   ]
  },
  {
   "cell_type": "code",
   "execution_count": 19,
   "id": "6d1df689",
   "metadata": {},
   "outputs": [
    {
     "data": {
      "text/plain": [
       "469082"
      ]
     },
     "execution_count": 19,
     "metadata": {},
     "output_type": "execute_result"
    }
   ],
   "source": [
    "cursor = conn.cursor()\n",
    "cursor.execute(\"\"\"\n",
    "CREATE TABLE IF NOT EXISTS Movies_ratings (\n",
    "    user_id INTEGER,\n",
    "    movie_id INTEGER,\n",
    "    rating REAL,\n",
    "    FOREIGN KEY (user_id) REFERENCES User(user_id),\n",
    "    FOREIGN KEY (movie_id) REFERENCES Movies(movie_id)\n",
    ");\n",
    "\"\"\")\n",
    "merged = merged[merged['user_id'].notnull()]\n",
    "merged.dropna(inplace=True)\n",
    "merged.to_sql(\"Movies_ratings\", conn, if_exists=\"append\", index=False)"
   ]
  },
  {
   "cell_type": "code",
   "execution_count": 18,
   "id": "ffd5ad77",
   "metadata": {},
   "outputs": [
    {
     "data": {
      "text/plain": [
       "<sqlite3.Cursor at 0x711cff343140>"
      ]
     },
     "execution_count": 18,
     "metadata": {},
     "output_type": "execute_result"
    }
   ],
   "source": [
    "conn.execute(\"DROP TABLE Movies_ratings\")"
   ]
  }
 ],
 "metadata": {
  "kernelspec": {
   "display_name": "Python 3",
   "language": "python",
   "name": "python3"
  },
  "language_info": {
   "codemirror_mode": {
    "name": "ipython",
    "version": 3
   },
   "file_extension": ".py",
   "mimetype": "text/x-python",
   "name": "python",
   "nbconvert_exporter": "python",
   "pygments_lexer": "ipython3",
   "version": "3.10.12"
  }
 },
 "nbformat": 4,
 "nbformat_minor": 5
}
